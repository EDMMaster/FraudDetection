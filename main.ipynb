{
 "cells": [
  {
   "cell_type": "markdown",
   "metadata": {},
   "source": [
    "# OPEN METEO API"
   ]
  },
  {
   "cell_type": "code",
   "execution_count": 5,
   "metadata": {},
   "outputs": [
    {
     "name": "stdout",
     "output_type": "stream",
     "text": [
      "Requirement already satisfied: openmeteo-requests in c:\\users\\lmisa\\anaconda3\\lib\\site-packages (1.3.0)\n",
      "Requirement already satisfied: openmeteo-sdk>=1.4.0 in c:\\users\\lmisa\\anaconda3\\lib\\site-packages (from openmeteo-requests) (1.13.0)\n",
      "Requirement already satisfied: requests in c:\\users\\lmisa\\anaconda3\\lib\\site-packages (from openmeteo-requests) (2.31.0)\n",
      "Requirement already satisfied: flatbuffers>=24.0.0 in c:\\users\\lmisa\\anaconda3\\lib\\site-packages (from openmeteo-sdk>=1.4.0->openmeteo-requests) (24.3.25)\n",
      "Requirement already satisfied: charset-normalizer<4,>=2 in c:\\users\\lmisa\\anaconda3\\lib\\site-packages (from requests->openmeteo-requests) (2.0.4)\n",
      "Requirement already satisfied: idna<4,>=2.5 in c:\\users\\lmisa\\anaconda3\\lib\\site-packages (from requests->openmeteo-requests) (3.4)\n",
      "Requirement already satisfied: urllib3<3,>=1.21.1 in c:\\users\\lmisa\\anaconda3\\lib\\site-packages (from requests->openmeteo-requests) (2.0.7)\n",
      "Requirement already satisfied: certifi>=2017.4.17 in c:\\users\\lmisa\\anaconda3\\lib\\site-packages (from requests->openmeteo-requests) (2024.6.2)\n",
      "Requirement already satisfied: requests-cache in c:\\users\\lmisa\\anaconda3\\lib\\site-packages (1.2.1)\n",
      "Requirement already satisfied: retry-requests in c:\\users\\lmisa\\anaconda3\\lib\\site-packages (2.0.0)\n",
      "Requirement already satisfied: numpy in c:\\users\\lmisa\\anaconda3\\lib\\site-packages (1.26.4)\n",
      "Requirement already satisfied: pandas in c:\\users\\lmisa\\anaconda3\\lib\\site-packages (2.1.4)\n",
      "Requirement already satisfied: attrs>=21.2 in c:\\users\\lmisa\\anaconda3\\lib\\site-packages (from requests-cache) (23.1.0)\n",
      "Requirement already satisfied: cattrs>=22.2 in c:\\users\\lmisa\\anaconda3\\lib\\site-packages (from requests-cache) (23.2.3)\n",
      "Requirement already satisfied: platformdirs>=2.5 in c:\\users\\lmisa\\anaconda3\\lib\\site-packages (from requests-cache) (3.10.0)\n",
      "Requirement already satisfied: requests>=2.22 in c:\\users\\lmisa\\anaconda3\\lib\\site-packages (from requests-cache) (2.31.0)\n",
      "Requirement already satisfied: url-normalize>=1.4 in c:\\users\\lmisa\\anaconda3\\lib\\site-packages (from requests-cache) (1.4.3)\n",
      "Requirement already satisfied: urllib3>=1.25.5 in c:\\users\\lmisa\\anaconda3\\lib\\site-packages (from requests-cache) (2.0.7)\n",
      "Requirement already satisfied: python-dateutil>=2.8.2 in c:\\users\\lmisa\\anaconda3\\lib\\site-packages (from pandas) (2.8.2)\n",
      "Requirement already satisfied: pytz>=2020.1 in c:\\users\\lmisa\\anaconda3\\lib\\site-packages (from pandas) (2023.3.post1)\n",
      "Requirement already satisfied: tzdata>=2022.1 in c:\\users\\lmisa\\anaconda3\\lib\\site-packages (from pandas) (2023.3)\n",
      "Requirement already satisfied: six>=1.5 in c:\\users\\lmisa\\anaconda3\\lib\\site-packages (from python-dateutil>=2.8.2->pandas) (1.16.0)\n",
      "Requirement already satisfied: charset-normalizer<4,>=2 in c:\\users\\lmisa\\anaconda3\\lib\\site-packages (from requests>=2.22->requests-cache) (2.0.4)\n",
      "Requirement already satisfied: idna<4,>=2.5 in c:\\users\\lmisa\\anaconda3\\lib\\site-packages (from requests>=2.22->requests-cache) (3.4)\n",
      "Requirement already satisfied: certifi>=2017.4.17 in c:\\users\\lmisa\\anaconda3\\lib\\site-packages (from requests>=2.22->requests-cache) (2024.6.2)\n",
      "Requirement already satisfied: python-dotenv in c:\\users\\lmisa\\anaconda3\\lib\\site-packages (0.21.0)\n"
     ]
    }
   ],
   "source": [
    "# Package Installs\n"
   ]
  },
  {
   "cell_type": "code",
   "execution_count": 2,
   "metadata": {},
   "outputs": [],
   "source": [
    "#Import Dependencies\n"
   ]
  }
 ],
 "metadata": {
  "colab": {
   "provenance": []
  },
  "kernelspec": {
   "display_name": "Python 3 (ipykernel)",
   "language": "python",
   "name": "python3"
  },
  "language_info": {
   "codemirror_mode": {
    "name": "ipython",
    "version": 3
   },
   "file_extension": ".py",
   "mimetype": "text/x-python",
   "name": "python",
   "nbconvert_exporter": "python",
   "pygments_lexer": "ipython3",
   "version": "3.11.7"
  }
 },
 "nbformat": 4,
 "nbformat_minor": 4
}
